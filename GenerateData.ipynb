{
  "cells": [
    {
      "cell_type": "markdown",
      "metadata": {
        "id": "view-in-github",
        "colab_type": "text"
      },
      "source": [
        "<a href=\"https://colab.research.google.com/github/Kadirjpn/checkgithub/blob/main/GenerateData.ipynb\" target=\"_parent\"><img src=\"https://colab.research.google.com/assets/colab-badge.svg\" alt=\"Open In Colab\"/></a>"
      ]
    },
    {
      "cell_type": "markdown",
      "metadata": {
        "id": "0T-kMSt6xUfB"
      },
      "source": [
        "# (A). Steps to Generate Data"
      ],
      "id": "0T-kMSt6xUfB"
    },
    {
      "cell_type": "code",
      "execution_count": 1,
      "metadata": {
        "id": "wBkIhb6mxUfC"
      },
      "outputs": [],
      "source": [
        "import random\n",
        "import numpy as np\n",
        "import pandas as pd\n"
      ],
      "id": "wBkIhb6mxUfC"
    },
    {
      "cell_type": "markdown",
      "metadata": {
        "id": "ZtazaNWhxUfD"
      },
      "source": [
        "### How to generate random numric values(Just For Reference)\n",
        "* **SYNTAX** fieldname=random.randint(minimum_value,maximumu_value)\n",
        "* Example\n",
        "  * age=random.randint(18,60)\n",
        "  * score = random.randint(50, 100)\n",
        "  * rating = random.randint(1, 10)\n"
      ],
      "id": "ZtazaNWhxUfD"
    },
    {
      "cell_type": "markdown",
      "metadata": {
        "id": "W9-BHVuKxUfD"
      },
      "source": [
        "## Step 3: Define the size of data\n"
      ],
      "id": "W9-BHVuKxUfD"
    },
    {
      "cell_type": "code",
      "execution_count": null,
      "metadata": {
        "id": "2y-3givJxUfD"
      },
      "outputs": [],
      "source": [
        "tot_data = 1000"
      ],
      "id": "2y-3givJxUfD"
    },
    {
      "cell_type": "markdown",
      "metadata": {
        "id": "_3v3VyOMxUfD"
      },
      "source": [
        "## Step 4: Install Faker Library"
      ],
      "id": "_3v3VyOMxUfD"
    },
    {
      "cell_type": "code",
      "execution_count": 2,
      "metadata": {
        "colab": {
          "base_uri": "https://localhost:8080/"
        },
        "id": "ZdcRCiA1xUfE",
        "outputId": "d1e83d20-c80c-4289-fe09-0ef0d5f61857"
      },
      "outputs": [
        {
          "output_type": "stream",
          "name": "stdout",
          "text": [
            "Collecting faker\n",
            "  Downloading Faker-26.3.0-py3-none-any.whl.metadata (15 kB)\n",
            "Requirement already satisfied: python-dateutil>=2.4 in /usr/local/lib/python3.10/dist-packages (from faker) (2.8.2)\n",
            "Requirement already satisfied: six>=1.5 in /usr/local/lib/python3.10/dist-packages (from python-dateutil>=2.4->faker) (1.16.0)\n",
            "Downloading Faker-26.3.0-py3-none-any.whl (1.8 MB)\n",
            "\u001b[2K   \u001b[90m━━━━━━━━━━━━━━━━━━━━━━━━━━━━━━━━━━━━━━━━\u001b[0m \u001b[32m1.8/1.8 MB\u001b[0m \u001b[31m17.2 MB/s\u001b[0m eta \u001b[36m0:00:00\u001b[0m\n",
            "\u001b[?25hInstalling collected packages: faker\n",
            "Successfully installed faker-26.3.0\n"
          ]
        }
      ],
      "source": [
        "get_ipython().system('pip install faker')"
      ],
      "id": "ZdcRCiA1xUfE"
    },
    {
      "cell_type": "markdown",
      "metadata": {
        "id": "gAcft5PuxUfE"
      },
      "source": [
        "## Step 5: Import Libraries"
      ],
      "id": "gAcft5PuxUfE"
    },
    {
      "cell_type": "code",
      "execution_count": 3,
      "metadata": {
        "id": "S3wf1GeCxUfE"
      },
      "outputs": [],
      "source": [
        "from faker import Faker\n",
        "import random\n",
        "import csv\n",
        "\n",
        "fake = Faker() # Create and initialize a faker generator"
      ],
      "id": "S3wf1GeCxUfE"
    },
    {
      "cell_type": "markdown",
      "metadata": {
        "id": "rgPZs4HKxUfE"
      },
      "source": [
        "## Step 6: Generate Synthetic data\n"
      ],
      "id": "rgPZs4HKxUfE"
    },
    {
      "cell_type": "code",
      "source": [
        "# Function to generate unique names\n",
        "def generate_unique_names(n):\n",
        "    names_set = set()\n",
        "    while len(names_set) < n:\n",
        "        names_set.add(fake.name())\n",
        "    return list(names_set)\n",
        "\n",
        "# Generate 1000 unique names\n",
        "unique_names = generate_unique_names(1000)\n",
        "\n",
        "# Define some example data for random selection\n",
        "\n",
        "domains = [\"polimas.edu.my\", \"yahoo.com\", \"gmail.com\", \"ptss.edu.my\", \"psp.edu.my\", \"pbu.edu.my\", \"uum.edu.my\", \"utm.edu.my\"]\n",
        "courses = [\"Math\", \"Physics\", \"Chemistry\", \"English\", \"History\", \"Economics\", \"Computer Science\", \"Biology\", \"Business\", \"Marketing\"]\n",
        "activities = [\"Debate Club\", \"Football Team\", \"Volunteer at Local Charity\", \"Dance Club\", \"Coding Club\", \"Chess Club\",\n",
        "              \"Environmental Club\", \"Science Club\", \"Marketing Club\", \"Entrepreneur Club\"]\n",
        "skills_list = [\"Python\", \"Data Analysis\", \"Communication\", \"Research\", \"Java\", \"Problem Solving\",\n",
        "               \"Lab Techniques\", \"Environmental Analysis\", \"Marketing Strategies\", \"Project Management\"]\n",
        "experiences = [\"Internship at TechCorp as Data Analyst\", \"Part-time Research Assistant at Uni Lab\",\n",
        "               \"Freelance Web Developer\", \"Lab Assistant at Green Solutions Ltd\",\n",
        "               \"Internship at MarketMakers as Marketing Intern\"]\n",
        "interests_list = [\"Technology\", \"Engineering\", \"Data Science\", \"Social Work\", \"Communication\", \"Research\",\n",
        "                  \"Programming\", \"Software Development\", \"AI\", \"Environment\", \"Biology\", \"Conservation\",\n",
        "                  \"Business\", \"Marketing\", \"Entrepreneurship\"]\n",
        "\n",
        "# Function to generate a random email based on the name\n",
        "def generate_email(name):\n",
        "    domain = random.choice(domains)\n",
        "    first_name, last_name = name.split()[0], name.split()[-1]\n",
        "    return f\"{first_name.lower()}.{last_name.lower()}@{domain}\"\n",
        "\n",
        "# Function to generate random course grades\n",
        "def generate_course_grades():\n",
        "    return \"; \".join([f\"{course}: {random.choice(['A', 'A-', 'B+', 'B'])}\" for course in random.sample(courses, 3)])\n",
        "\n",
        "# Function to generate random extracurricular activities\n",
        "def generate_activities():\n",
        "    return \"; \".join(random.sample(activities, 2))\n",
        "\n",
        "# Function to generate random skills\n",
        "def generate_skills():\n",
        "    return \"; \".join(random.sample(skills_list, 2))\n",
        "\n",
        "# Function to generate random interests\n",
        "def generate_interests():\n",
        "    return \"; \".join(random.sample(interests_list, 3))\n",
        "\n",
        "# Generate the dataset\n",
        "data = {\n",
        "    \"student_id\": [f\"{i+1:03}\" for i in range(1000)],\n",
        "    \"name\": unique_names,\n",
        "    \"email\": [generate_email(name) for name in unique_names],\n",
        "    \"GPA\": [round(random.uniform(2.5, 4.0), 2) for _ in range(1000)],\n",
        "    \"course_grades\": [generate_course_grades() for _ in range(1000)],\n",
        "    \"extracurricular_activities\": [generate_activities() for _ in range(1000)],\n",
        "    \"skills\": [generate_skills() for _ in range(1000)],\n",
        "    \"experiences\": [random.choice(experiences) for _ in range(1000)],\n",
        "    \"interests\": [generate_interests() for _ in range(1000)]\n",
        "}\n",
        "\n",
        "# Creating the DataFrame\n",
        "df = pd.DataFrame(data)\n",
        "\n",
        "# Display the first few rows of the DataFrame\n",
        "print(df.head())\n",
        "\n",
        "# Optionally, save the DataFrame to a CSV file\n",
        "df.to_csv('student_data2.csv', index=False)"
      ],
      "metadata": {
        "colab": {
          "base_uri": "https://localhost:8080/"
        },
        "id": "Ur15OGKX2ZcG",
        "outputId": "7e205dd3-2da0-4891-f733-ca8e332561a1"
      },
      "id": "Ur15OGKX2ZcG",
      "execution_count": 6,
      "outputs": [
        {
          "output_type": "stream",
          "name": "stdout",
          "text": [
            "  student_id               name                         email   GPA  \\\n",
            "0        001      Meghan Holden  meghan.holden@polimas.edu.my  2.68   \n",
            "1        002         Sara Meyer         sara.meyer@psp.edu.my  2.56   \n",
            "2        003       Jared Harris   jared.harris@polimas.edu.my  2.95   \n",
            "3        004  Elizabeth Proctor  elizabeth.proctor@psp.edu.my  2.93   \n",
            "4        005    Melissa Jenkins   melissa.jenkins@ptss.edu.my  2.56   \n",
            "\n",
            "                                course_grades  \\\n",
            "0     Chemistry: A; Biology: B; Economics: B+   \n",
            "1       Biology: A; Physics: B+; Marketing: B   \n",
            "2          Economics: A; Math: B; History: A-   \n",
            "3          Math: B+; Biology: A-; Physics: A-   \n",
            "4  Chemistry: B; Marketing: B+; Economics: B+   \n",
            "\n",
            "           extracurricular_activities  \\\n",
            "0           Science Club; Debate Club   \n",
            "1  Marketing Club; Environmental Club   \n",
            "2     Coding Club; Environmental Club   \n",
            "3    Science Club; Environmental Club   \n",
            "4           Football Team; Chess Club   \n",
            "\n",
            "                                       skills  \\\n",
            "0  Project Management; Environmental Analysis   \n",
            "1                                Java; Python   \n",
            "2                              Research; Java   \n",
            "3         Project Management; Problem Solving   \n",
            "4        Lab Techniques; Marketing Strategies   \n",
            "\n",
            "                                      experiences  \\\n",
            "0         Part-time Research Assistant at Uni Lab   \n",
            "1  Internship at MarketMakers as Marketing Intern   \n",
            "2         Part-time Research Assistant at Uni Lab   \n",
            "3         Part-time Research Assistant at Uni Lab   \n",
            "4         Part-time Research Assistant at Uni Lab   \n",
            "\n",
            "                                 interests  \n",
            "0           Research; Biology; Social Work  \n",
            "1       Environment; Technology; Marketing  \n",
            "2      Environment; Data Science; Research  \n",
            "3    Environment; Programming; Social Work  \n",
            "4  Data Science; Technology; Communication  \n"
          ]
        }
      ]
    }
  ],
  "metadata": {
    "kernelspec": {
      "display_name": "Python 3",
      "language": "python",
      "name": "python3"
    },
    "language_info": {
      "codemirror_mode": {
        "name": "ipython",
        "version": 3
      },
      "file_extension": ".py",
      "mimetype": "text/x-python",
      "name": "python",
      "nbconvert_exporter": "python",
      "pygments_lexer": "ipython3",
      "version": "3.7.4"
    },
    "colab": {
      "provenance": [],
      "include_colab_link": true
    }
  },
  "nbformat": 4,
  "nbformat_minor": 5
}